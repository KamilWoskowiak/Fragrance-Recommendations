{
 "cells": [
  {
   "cell_type": "code",
   "execution_count": null,
   "id": "f2376f4e-0177-4f1f-b09b-28101f07d4d1",
   "metadata": {},
   "outputs": [],
   "source": [
    "import csv\n",
    "import pandas as pd\n",
    "import numpy as np\n",
    "import ast"
   ]
  },
  {
   "cell_type": "code",
   "execution_count": null,
   "id": "8193e34f-3b73-4f68-a9cb-2438f87d61e7",
   "metadata": {},
   "outputs": [],
   "source": [
    "df1 = pd.read_csv('raw_data.csv')\n",
    "df1"
   ]
  },
  {
   "cell_type": "code",
   "execution_count": null,
   "id": "9c52505e-f040-47a3-a130-5ac8acc33575",
   "metadata": {},
   "outputs": [],
   "source": [
    "df2 = pd.read_csv('extra_raw_data.csv')\n",
    "df2"
   ]
  },
  {
   "cell_type": "code",
   "execution_count": null,
   "id": "6616e71e-5905-4bb8-be25-1ee3fd124c2c",
   "metadata": {},
   "outputs": [],
   "source": [
    "df = pd.concat([df1,df2], ignore_index=True)"
   ]
  },
  {
   "cell_type": "code",
   "execution_count": null,
   "id": "4ccebe65-ce8c-40ed-be87-9841f1d29e7c",
   "metadata": {},
   "outputs": [],
   "source": [
    "df"
   ]
  },
  {
   "cell_type": "code",
   "execution_count": null,
   "id": "958ef1c2-27d0-4b3a-abf6-364ff795cc0d",
   "metadata": {},
   "outputs": [],
   "source": [
    "error_rows = df[\n",
    "    df.apply(lambda row: row.astype(str).str.contains('error', case=False, na=False).any(), axis=1) &\n",
    "    df.notna().any(axis=1)\n",
    "]\n",
    "error_rows"
   ]
  },
  {
   "cell_type": "code",
   "execution_count": null,
   "id": "6cac6ccb-5f1f-4491-aae8-ac75f49c3dd3",
   "metadata": {},
   "outputs": [],
   "source": [
    "len(error_rows)"
   ]
  },
  {
   "cell_type": "code",
   "execution_count": null,
   "id": "c33e8f2a-b73a-48b1-a3c9-872096d8b42a",
   "metadata": {},
   "outputs": [],
   "source": [
    "df = df.drop(error_rows.index)"
   ]
  },
  {
   "cell_type": "code",
   "execution_count": null,
   "id": "e25103e2-fddd-4b34-a672-f1bcf15a317b",
   "metadata": {},
   "outputs": [],
   "source": [
    "df"
   ]
  },
  {
   "cell_type": "code",
   "execution_count": null,
   "id": "7873a826-5fca-4e3e-90fc-481d91709a47",
   "metadata": {},
   "outputs": [],
   "source": [
    "empty_accords = df[df['accords'].apply(lambda x: isinstance(x, dict) and not x)]"
   ]
  },
  {
   "cell_type": "code",
   "execution_count": null,
   "id": "84bdc285-9663-4470-a83e-c4159ad9b2bb",
   "metadata": {},
   "outputs": [],
   "source": [
    "empty_accords"
   ]
  },
  {
   "cell_type": "code",
   "execution_count": null,
   "id": "f5bb17a2-b94b-4a02-a377-d7ce0e2bbb78",
   "metadata": {},
   "outputs": [],
   "source": [
    "ast.literal_eval(df.loc[2, 'accords'])"
   ]
  },
  {
   "cell_type": "code",
   "execution_count": null,
   "id": "6fa2c95c-4e8d-4708-9583-6b91a429986d",
   "metadata": {},
   "outputs": [],
   "source": [
    "empty_accords = df[df['accords'] == '{}']"
   ]
  },
  {
   "cell_type": "code",
   "execution_count": null,
   "id": "95a86eb6-8f3a-4bcc-a243-d3e6fd4db222",
   "metadata": {},
   "outputs": [],
   "source": [
    "empty_accords"
   ]
  },
  {
   "cell_type": "code",
   "execution_count": null,
   "id": "ee5373c4-c456-4781-890b-279d9919aeb5",
   "metadata": {},
   "outputs": [],
   "source": [
    "df = df.drop(empty_accords.index)"
   ]
  },
  {
   "cell_type": "code",
   "execution_count": null,
   "id": "2e79ffa4-f7db-4435-b440-24055ef1c641",
   "metadata": {},
   "outputs": [],
   "source": [
    "df['ratingCount'] = df['ratingCount'].astype(str).str.replace(',', '', regex=True)\n",
    "df['ratingCount'] = pd.to_numeric(df['ratingCount'], errors='coerce')\n",
    "\n",
    "df['ratingValue'] = df['ratingValue'].astype(str).str.replace(',', '', regex=True)\n",
    "df['ratingValue'] = pd.to_numeric(df['ratingValue'], errors='coerce')"
   ]
  },
  {
   "cell_type": "code",
   "execution_count": null,
   "id": "db992467-602c-4686-bdc1-25fcb69cd791",
   "metadata": {},
   "outputs": [],
   "source": [
    "stats = df[['ratingCount', 'ratingValue']].describe()"
   ]
  },
  {
   "cell_type": "code",
   "execution_count": null,
   "id": "d2d8685b-4d9d-45f3-93f0-04733b88585d",
   "metadata": {},
   "outputs": [],
   "source": [
    "stats"
   ]
  },
  {
   "cell_type": "code",
   "execution_count": null,
   "id": "d6e27f36-ddb9-46e4-acf4-9be78fe53e89",
   "metadata": {},
   "outputs": [],
   "source": [
    "rating_count_cutoff = df['ratingCount'].quantile(0.10)"
   ]
  },
  {
   "cell_type": "code",
   "execution_count": null,
   "id": "2fcd1af6-93f9-417e-8d66-176e03e6dd80",
   "metadata": {},
   "outputs": [],
   "source": [
    "rating_value_cutoff = df['ratingValue'].quantile(0.15)"
   ]
  },
  {
   "cell_type": "code",
   "execution_count": null,
   "id": "71c7a499-3b73-40e6-9324-d5033580871f",
   "metadata": {},
   "outputs": [],
   "source": [
    "rating_count_cutoff, rating_value_cutoff"
   ]
  },
  {
   "cell_type": "code",
   "execution_count": null,
   "id": "2e866e50-22f2-47d9-ae0f-09264c858c3b",
   "metadata": {},
   "outputs": [],
   "source": [
    "df_cutoff = df[(df['ratingCount'] <= rating_count_cutoff) | (df['ratingValue'] <= rating_value_cutoff)]"
   ]
  },
  {
   "cell_type": "code",
   "execution_count": null,
   "id": "c31a05bc-09c7-4d58-af5a-c8e968b3678f",
   "metadata": {},
   "outputs": [],
   "source": [
    "df_cutoff"
   ]
  },
  {
   "cell_type": "code",
   "execution_count": null,
   "id": "1ed9cdc2-c32f-4fb8-8a05-6872466834e7",
   "metadata": {},
   "outputs": [],
   "source": [
    "from collections import Counter"
   ]
  },
  {
   "cell_type": "code",
   "execution_count": null,
   "id": "d4b58f11-e143-4633-9c0c-1f98c57b0e30",
   "metadata": {},
   "outputs": [],
   "source": [
    "name_counts = Counter(df_cutoff['brand'])"
   ]
  },
  {
   "cell_type": "code",
   "execution_count": null,
   "id": "31b0f046-a05a-49d0-a0c8-ba06deca9243",
   "metadata": {},
   "outputs": [],
   "source": [
    "name_counts"
   ]
  },
  {
   "cell_type": "code",
   "execution_count": null,
   "id": "b9273eae-22cb-4999-91f9-30b3e1d24d49",
   "metadata": {},
   "outputs": [],
   "source": [
    "df_cutoff[df_cutoff['brand'].str.lower() == 'Bond No 9'.lower()]"
   ]
  },
  {
   "cell_type": "code",
   "execution_count": null,
   "id": "74ec71e4-ee6f-4151-8a8c-82b728730356",
   "metadata": {},
   "outputs": [],
   "source": [
    "df = df.drop(df_cutoff.index)"
   ]
  },
  {
   "cell_type": "code",
   "execution_count": null,
   "id": "4005ddb6-f537-492a-899c-6e4d8dde8702",
   "metadata": {},
   "outputs": [],
   "source": [
    "df"
   ]
  },
  {
   "cell_type": "code",
   "execution_count": null,
   "id": "391d02ca-cb07-4a08-99d0-67222b257254",
   "metadata": {},
   "outputs": [],
   "source": [
    "df['accords'] = df['accords'].apply(lambda x: ast.literal_eval(x) if isinstance(x, str) and x.startswith('{') else x)"
   ]
  },
  {
   "cell_type": "code",
   "execution_count": null,
   "id": "1a2514a8-6ee4-443b-9cc0-2700e5d54fef",
   "metadata": {},
   "outputs": [],
   "source": [
    "accord_counter = Counter()\n",
    "for accords in df['accords']:\n",
    "    accord_counter.update(accords.keys())"
   ]
  },
  {
   "cell_type": "code",
   "execution_count": null,
   "id": "cd12fc18-c7c1-4bc3-8a86-356db99dd0d0",
   "metadata": {},
   "outputs": [],
   "source": [
    "accord_counts = dict(accord_counter)\n",
    "accord_counts"
   ]
  },
  {
   "cell_type": "code",
   "execution_count": null,
   "id": "dbf163a3-3891-4179-a606-afdd24cf0050",
   "metadata": {},
   "outputs": [],
   "source": [
    "accord_groups = {\n",
    "    \"Woody & Earthy\": {\"woody\", \"mossy\", \"patchouli\", \"earthy\", \"conifer\"},\n",
    "    \"Smoky & Leathery\": {\"smoky\", \"leather\", \"animalic\", \"tobacco\"},\n",
    "    \"Resinous & Balsamic\": {\"amber\", \"balsamic\", \"vanilla\"},\n",
    "    \"Citrus & Fresh\": {\"citrus\", \"fresh\", \"marine\", \"ozonic\", \"aquatic\"},\n",
    "    \"Green & Herbal\": {\"green\", \"herbal\", \"aromatic\", \"lavender\"},\n",
    "    \"Warm & Spicy\": {\"warm spicy\", \"cinnamon\", \"soft spicy\"},\n",
    "    \"Sweet & Gourmand\": {\"sweet\", \"honey\", \"caramel\", \"chocolate\", \"cacao\", \"coffee\", \"nutty\", \"almond\"},\n",
    "    \"Floral\": {\"floral\", \"white floral\", \"yellow floral\", \"rose\", \"violet\", \"tuberose\", \"iris\"},\n",
    "    \"Powdery & Soft\": {\"powdery\", \"musky\", \"soapy\", \"lactonic\"},\n",
    "    \"Synthetic\": {\"metallic\", \"aldehydic\", \"mineral\", \"vinyl\", \"alcohol\"},\n",
    "    \"Uncommon\": {\"cannabis\", \"coca-cola\", \"Champagne\", \"whiskey\", \"vodka\", \"savory\", \"sand\", \"beeswax\", \"bitter\", \"sour\", \"terpenic\"},\n",
    "}"
   ]
  },
  {
   "cell_type": "code",
   "execution_count": null,
   "id": "55b8055a-348b-40fc-b9e0-631a37010be3",
   "metadata": {},
   "outputs": [],
   "source": [
    "total_fragrances = len(df)"
   ]
  },
  {
   "cell_type": "code",
   "execution_count": null,
   "id": "eee54fec-a072-47b6-992f-04bce8586806",
   "metadata": {},
   "outputs": [],
   "source": [
    "def compute_tfidf(accords_dict):\n",
    "    grouped_strengths = {}\n",
    "    \n",
    "    for group, accords in accord_groups.items():\n",
    "        group_strength = 0\n",
    "        for accord in accords:\n",
    "            if accord in accords_dict:\n",
    "                tf = accords_dict[accord]\n",
    "                df_count = sum([1 for row in df['accords'] if accord in row])\n",
    "                idf = np.log((total_fragrances + 1) / (df_count + 1))\n",
    "                group_strength += tf * idf\n",
    "        \n",
    "        grouped_strengths[group] = group_strength\n",
    "    \n",
    "    return grouped_strengths"
   ]
  },
  {
   "cell_type": "code",
   "execution_count": null,
   "id": "fd6da544-5c61-4fef-a8ff-9b75d1bd436e",
   "metadata": {},
   "outputs": [],
   "source": [
    "df['grouped_accords'] = df['accords'].apply(compute_tfidf)"
   ]
  },
  {
   "cell_type": "code",
   "execution_count": null,
   "id": "74c1e6f4-1793-4548-89b0-400f9b2101c0",
   "metadata": {},
   "outputs": [],
   "source": [
    "grouped_df = df['grouped_accords'].apply(pd.Series).fillna(0)"
   ]
  },
  {
   "cell_type": "code",
   "execution_count": null,
   "id": "0dcad359-df62-4a97-b0f7-778ed74012fa",
   "metadata": {},
   "outputs": [],
   "source": [
    "df = df.drop(columns=['grouped_accords']).join(grouped_df)"
   ]
  },
  {
   "cell_type": "code",
   "execution_count": null,
   "id": "6bdc0fe1-8869-4a08-823d-867339e5414d",
   "metadata": {},
   "outputs": [],
   "source": [
    "df"
   ]
  },
  {
   "cell_type": "code",
   "execution_count": null,
   "id": "327483cd-a150-4a71-8575-e8f3757272b9",
   "metadata": {},
   "outputs": [],
   "source": [
    "gender_mapping = {\n",
    "    \"female\": -2, \"more female\": -1, \"unisex\": 0,\n",
    "    \"more male\": 1, \"male\": 2\n",
    "}\n",
    "\n",
    "price_mapping = {\n",
    "    \"way overpriced\": -2, \"overpriced\": -1, \"ok\": 0,\n",
    "    \"good value\": 1, \"great value\": 2\n",
    "}"
   ]
  },
  {
   "cell_type": "code",
   "execution_count": null,
   "id": "a2860549-7e99-47cb-a61d-068168a9a38f",
   "metadata": {},
   "outputs": [],
   "source": [
    "def compute_weighted_score(vote_dict, mapping):\n",
    "    if isinstance(vote_dict, str):\n",
    "        vote_dict = ast.literal_eval(vote_dict)\n",
    "    \n",
    "    total_votes = sum(vote_dict.values())\n",
    "    if total_votes == 0:\n",
    "        return 0\n",
    "    \n",
    "    weighted_sum = sum(mapping[key] * count for key, count in vote_dict.items() if key in mapping)\n",
    "    return weighted_sum / total_votes"
   ]
  },
  {
   "cell_type": "code",
   "execution_count": null,
   "id": "1c991e2e-3ed4-45ed-9c9a-818d5da61c18",
   "metadata": {},
   "outputs": [],
   "source": [
    "df['gender_score'] = df['gender'].apply(lambda x: compute_weighted_score(x, gender_mapping))\n",
    "df['priceValue_score'] = df['priceValue'].apply(lambda x: compute_weighted_score(x, price_mapping))"
   ]
  },
  {
   "cell_type": "code",
   "execution_count": null,
   "id": "c2d70c17-3abf-423f-afab-db83c8cfdcdd",
   "metadata": {},
   "outputs": [],
   "source": [
    "df"
   ]
  },
  {
   "cell_type": "code",
   "execution_count": null,
   "id": "efb9e21d-a117-41dd-8683-04cdb3f6e8ad",
   "metadata": {},
   "outputs": [],
   "source": [
    "def compute_time(tod_dict):\n",
    "    if isinstance(tod_dict, str):\n",
    "        tod_dict = ast.literal_eval(tod_dict)\n",
    "\n",
    "    return tod_dict.get('day', 0) - tod_dict.get('night', 0)"
   ]
  },
  {
   "cell_type": "code",
   "execution_count": null,
   "id": "8082c23d-c015-49d4-8958-99bd0e15e431",
   "metadata": {},
   "outputs": [],
   "source": [
    "df['timeOfDay_score'] = df['timeOfDay'].apply(compute_time)"
   ]
  },
  {
   "cell_type": "code",
   "execution_count": null,
   "id": "6db0e97c-1163-4022-af34-3260b244c229",
   "metadata": {},
   "outputs": [],
   "source": [
    "df"
   ]
  },
  {
   "cell_type": "code",
   "execution_count": null,
   "id": "a601a391-cd31-4111-9e2d-18a23ee05bbb",
   "metadata": {},
   "outputs": [],
   "source": [
    "def compute_season_score(votes):\n",
    "    if isinstance(votes, str):\n",
    "        votes = ast.literal_eval(votes)\n",
    "    return (votes.get('summer',0)+votes.get('spring',0)) - (votes.get('fall', 0) + votes.get('winter', 0))\n",
    "    "
   ]
  },
  {
   "cell_type": "code",
   "execution_count": null,
   "id": "5c1c5936-6a0f-4e14-b49d-d4e45fe2278f",
   "metadata": {},
   "outputs": [],
   "source": [
    "season_mapping = {\n",
    "    \"winter\": -1, \"fall\": -0.5, \"spring\": 0.5, \"winter\": 1\n",
    "}"
   ]
  },
  {
   "cell_type": "code",
   "execution_count": null,
   "id": "ecf2dedd-724d-4527-bfb1-e8a1513614df",
   "metadata": {},
   "outputs": [],
   "source": [
    "df['season_score'] = df['seasons'].apply(compute_season_score)"
   ]
  },
  {
   "cell_type": "code",
   "execution_count": null,
   "id": "e96ce3e4-6d0c-44f5-948d-fce73f79b387",
   "metadata": {},
   "outputs": [],
   "source": [
    "df"
   ]
  },
  {
   "cell_type": "code",
   "execution_count": null,
   "id": "fc7cc1e6-8b11-4548-aa1d-12d5366bd7f2",
   "metadata": {},
   "outputs": [],
   "source": [
    "df.columns.tolist()"
   ]
  },
  {
   "cell_type": "code",
   "execution_count": null,
   "id": "b0afc714-d717-4397-915f-1791111374a7",
   "metadata": {},
   "outputs": [],
   "source": [
    "selected = ['name', 'brand', 'ratingValue', 'ratingCount', 'gender_score', 'priceValue_score', 'timeOfDay_score', 'season_score'] + list(accord_groups.keys()) + ['notesBreakdown']"
   ]
  },
  {
   "cell_type": "code",
   "execution_count": null,
   "id": "262b0faf-aa2c-423b-8452-a569fc5bd0c9",
   "metadata": {},
   "outputs": [],
   "source": [
    "selected"
   ]
  },
  {
   "cell_type": "code",
   "execution_count": null,
   "id": "07f8189c-145d-4120-bc17-2a3cb0da9d22",
   "metadata": {},
   "outputs": [],
   "source": [
    "newdf = df[selected].copy()"
   ]
  },
  {
   "cell_type": "code",
   "execution_count": null,
   "id": "a91e3d47-14d2-43bc-81f6-b491b809ebf7",
   "metadata": {},
   "outputs": [],
   "source": [
    "newdf"
   ]
  },
  {
   "cell_type": "code",
   "execution_count": null,
   "id": "4ec4ad54-1931-4358-aadb-fe04354782ad",
   "metadata": {},
   "outputs": [],
   "source": [
    "newdf.loc[:, list(accord_groups.keys())] = newdf.loc[:, list(accord_groups.keys())].round(5)\n",
    "newdf.loc[:, ['gender_score', 'priceValue_score', 'timeOfDay_score', 'season_score']] = newdf.loc[:, ['gender_score', 'priceValue_score', 'timeOfDay_score', 'season_score']].round(5)"
   ]
  },
  {
   "cell_type": "code",
   "execution_count": null,
   "id": "bba26510-38c6-45d9-83a4-9a9500e127ac",
   "metadata": {},
   "outputs": [],
   "source": [
    "newdf = newdf.sort_values(by=[\"brand\", \"name\"])"
   ]
  },
  {
   "cell_type": "code",
   "execution_count": null,
   "id": "18d0aee5-99d6-4044-8f4e-888fca49d489",
   "metadata": {},
   "outputs": [],
   "source": [
    "df['notesBreakdown'] = df['notesBreakdown'].apply(lambda x: ast.literal_eval(x))"
   ]
  },
  {
   "cell_type": "code",
   "execution_count": null,
   "id": "6908ea43-b23d-43f7-9bc0-af4a62f41ef3",
   "metadata": {},
   "outputs": [],
   "source": [
    "newdf = newdf.reset_index(drop=True)"
   ]
  },
  {
   "cell_type": "code",
   "execution_count": null,
   "id": "2b68e79d-16aa-44d7-ab5e-4b64974590bc",
   "metadata": {},
   "outputs": [],
   "source": [
    "newdf"
   ]
  },
  {
   "cell_type": "code",
   "execution_count": null,
   "id": "814e6541-4398-4983-949a-1d1f3b194cf2",
   "metadata": {},
   "outputs": [],
   "source": [
    "newdf.to_csv(\"fragrance_data.csv\", index=False)"
   ]
  },
  {
   "cell_type": "code",
   "execution_count": null,
   "id": "a9f4d237-5382-4b7e-91d2-ecfb51380b9c",
   "metadata": {},
   "outputs": [],
   "source": [
    "alldata = newdf.describe()"
   ]
  },
  {
   "cell_type": "code",
   "execution_count": null,
   "id": "f76ad2de-3414-4d06-8c87-14461e5367c1",
   "metadata": {},
   "outputs": [],
   "source": [
    "alldata"
   ]
  },
  {
   "cell_type": "code",
   "execution_count": null,
   "id": "acf0a27b-98f1-4bfd-977a-276d7b2e9bca",
   "metadata": {},
   "outputs": [],
   "source": [
    "newdf.columns.tolist()"
   ]
  },
  {
   "cell_type": "code",
   "execution_count": null,
   "id": "8e76979a-6b2e-437e-b37d-ac8d93e479fa",
   "metadata": {},
   "outputs": [],
   "source": []
  }
 ],
 "metadata": {
  "kernelspec": {
   "display_name": "Python 3 (ipykernel)",
   "language": "python",
   "name": "python3"
  },
  "language_info": {
   "codemirror_mode": {
    "name": "ipython",
    "version": 3
   },
   "file_extension": ".py",
   "mimetype": "text/x-python",
   "name": "python",
   "nbconvert_exporter": "python",
   "pygments_lexer": "ipython3",
   "version": "3.13.2"
  }
 },
 "nbformat": 4,
 "nbformat_minor": 5
}
